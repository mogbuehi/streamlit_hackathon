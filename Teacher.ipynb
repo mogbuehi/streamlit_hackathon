{
 "cells": [
  {
   "cell_type": "code",
   "execution_count": 7,
   "id": "a2b5cfb8-4578-4b07-a232-88380a67f27f",
   "metadata": {},
   "outputs": [],
   "source": [
    "from langchain.llms import OpenAI\n",
    "from langchain.chat_models import ChatOpenAI\n",
    "from langchain import PromptTemplate\n",
    "from dotenv import load_dotenv, find_dotenv\n",
    "import os\n",
    "\n",
    "_ = load_dotenv(find_dotenv()) # read local .env file\n",
    "openai_api_key = os.getenv('OPENAI_API_KEY')"
   ]
  },
  {
   "cell_type": "code",
   "execution_count": 15,
   "id": "9146c775-8dd8-4f63-b0dc-e01cc69f0556",
   "metadata": {
    "jp-MarkdownHeadingCollapsed": true
   },
   "outputs": [
    {
     "name": "stdout",
     "output_type": "stream",
     "text": [
      "japanese\n"
     ]
    }
   ],
   "source": [
    "# select language (should be in the data of the Transcript)\n",
    "import json\n",
    "transcript_path = 'transcript/Kamina - Believe in me who believes in you.json'\n",
    "with open(transcript_path, 'r') as json_file:\n",
    "    transcript = json.load(json_file)\n",
    "language = transcript['language']\n",
    "\n",
    "\n",
    "llm = OpenAI(model_name='gpt-3.5-turbo-0613', openai_api_key=openai_api_key, temperature=0)\n",
    "template = '''Convert the ISO-639-1 language code into the plain english word for the language. ONLY return the english word for that language, nothing more.\n",
    "Here is the language code: {language}  \n",
    "Take your time and think this through. Remember only respond with one word, the english word for the language\n",
    "\n",
    "Example: \n",
    "input: fr\n",
    "your response: french\n",
    "'''\n",
    "\n",
    "prompt = PromptTemplate(\n",
    "    input_variables=['language'],\n",
    "    template=template,\n",
    ")\n",
    "\n",
    "final_prompt = prompt.format(language = language)\n",
    "language = llm(final_prompt)"
   ]
  },
  {
   "cell_type": "code",
   "execution_count": null,
   "id": "be7c03d0-c772-4245-97d6-fd40e9e6a497",
   "metadata": {},
   "outputs": [],
   "source": []
  },
  {
   "cell_type": "code",
   "execution_count": 18,
   "id": "032c506e-5c86-44bf-a895-a47c186c8acb",
   "metadata": {},
   "outputs": [
    {
     "data": {
      "text/plain": [
       "['lesson_format', 'transcript_text']"
      ]
     },
     "execution_count": 18,
     "metadata": {},
     "output_type": "execute_result"
    }
   ],
   "source": [
    "# Design and give student outline structure of the lesson \n",
    "## everything should happen in a large chat window\n",
    "## if first lesson student should recieve the basics for learning japanese (kana table gojuon)\n",
    "## give a txt or md or pdf of lesson outline and lesson notes (vocab, romaji, kana, kanji used)\n",
    "## when designing the lesson it should pull out the keywords in relation to the clip of interest\n",
    "\n",
    "from langchain.chat_models import ChatOpenAI\n",
    "from langchain.prompts import ChatPromptTemplate\n",
    "\n",
    "chat = ChatOpenAI(temperature=0.0, model='gpt-3.5-turbo-0613')\n",
    "\n",
    "transcript_text = transcript['text']\n",
    "with open('lesson_format.txt', 'r') as txt_file:\n",
    "    lesson_format= txt_file.read()\n",
    "    \n",
    "template_string = '''Create a lesson based on this transcript {transcript_text} following this format {lesson_format}. \n",
    "Only output the lesson plan, nothing more'''\n",
    "\n",
    "prompt_template = ChatPromptTemplate.from_template(template_string)\n",
    "prompt_template.messages[0].prompt.input_variables"
   ]
  },
  {
   "cell_type": "code",
   "execution_count": 23,
   "id": "929dcced-93a2-49c2-bf06-87c3a3343a54",
   "metadata": {},
   "outputs": [
    {
     "name": "stdout",
     "output_type": "stream",
     "text": [
      "[HumanMessage(content=\"Create a lesson based on this transcript いいかシモン 忘れんな お前を信じろ 俺が信じるお前でもない お前が信じる俺でもない お前が信じるお前を信じろ following this format **Lesson Title:**  << create and insert a lesson title based on what the transcript is about >>\\n\\n**Objective:** By the end of this lesson, learners will be able to understand << design a lesson that is based on the words in the transcript >>\\n\\n**Lesson Structure:**\\n\\n**1. Introduction (2 minutes):**\\n   - Greet the learners and briefly introduce the purpose of the lesson: to learn basic Japanese phrases related << topic of the transcript>>.\\n\\n**2. Audio Listening (5 minutes):**\\n   - Ask the student (refer to their name) to play the audio clip of the transcript once to allow learners to listen and get a feel for the pronunciation and intonation.\\n\\n**3. Vocabulary Building (5 minutes):**\\n   - Introduce and explain the key phrases:\\n   - Pronounce each phrase clearly and encourage learners to repeat after you. \\n\\n**4. Practice (2 minutes):**\\n   - Ask learners to repeat each phrase after you to practice pronunciation.\\n\\n**5. Summary (1 minute):**\\n   - Summarize what was learned in the lesson: the meanings and pronunciations of the three phrases.\\n\\n**6. Closing Remarks (1 minute):**\\n   - Encourage learners to continue practicing these phrases on their own and use them to encourage themselves and others.\\n\\n**7. Homework (optional, 1 minute):**\\n   - If desired, assign optional homework: Have learners find a friend or family member to share the phrases they've learned and encourage them in Japanese.\\n\\n**8. Q&A:**\\n   - Open the floor for any questions learners may have.. \\nOnly output the lesson plan, nothing more\", additional_kwargs={}, example=False)]\n",
      "\n",
      "content=\"**Lesson Title:** Building Confidence and Trust in Japanese\\n\\n**Objective:** By the end of this lesson, learners will be able to understand and use basic Japanese phrases related to building confidence and trust in oneself and others.\\n\\n**Lesson Structure:**\\n\\n**1. Introduction (2 minutes):**\\n   - Greet the learners and briefly introduce the purpose of the lesson: to learn basic Japanese phrases related to building confidence and trust.\\n   \\n**2. Audio Listening (5 minutes):**\\n   - Ask the student (refer to their name) to play the audio clip of the transcript once to allow learners to listen and get a feel for the pronunciation and intonation.\\n   \\n**3. Vocabulary Building (5 minutes):**\\n   - Introduce and explain the key phrases:\\n     - いいかシモン (ii ka shimon) - Listen up, Simon.\\n     - 忘れんな (wasurenna) - Don't forget.\\n     - お前を信じろ (omae o shinjiro) - Believe in yourself.\\n     - 俺が信じるお前でもない (ore ga shinjiru omae demo nai) - It's not about you believing in me.\\n     - お前が信じる俺でもない (omae ga shinjiru ore demo nai) - It's not about me believing in you.\\n     - お前が信じるお前を信じろ (omae ga shinjiru omae o shinjiro) - Believe in the version of yourself that you believe in.\\n   - Pronounce each phrase clearly and encourage learners to repeat after you.\\n   \\n**4. Practice (2 minutes):**\\n   - Ask learners to repeat each phrase after you to practice pronunciation.\\n   \\n**5. Summary (1 minute):**\\n   - Summarize what was learned in the lesson: the meanings and pronunciations of the three phrases.\\n   \\n**6. Closing Remarks (1 minute):**\\n   - Encourage learners to continue practicing these phrases on their own and use them to encourage themselves and others.\\n   \\n**7. Homework (optional, 1 minute):**\\n   - If desired, assign optional homework: Have learners find a friend or family member to share the phrases they've learned and encourage them in Japanese.\\n   \\n**8. Q&A:**\\n   - Open the floor for any questions learners may have.\" additional_kwargs={} example=False\n"
     ]
    }
   ],
   "source": [
    "messages = prompt_template.format_messages(\n",
    "    lesson_format=lesson_format,\n",
    "    transcript_text=transcript_text\n",
    ")\n",
    "\n",
    "response = chat(messages)\n",
    "print(messages)\n",
    "print('')\n",
    "print(response)\n",
    "lesson_plan = response.content\n",
    "with open('lesson_plan.md', 'w',encoding='utf-8') as md_file:\n",
    "    md_file.write(lesson_plan)"
   ]
  },
  {
   "cell_type": "code",
   "execution_count": null,
   "id": "ef8b2a01-e83d-45f8-9b36-c279af56b8ec",
   "metadata": {},
   "outputs": [],
   "source": [
    "# Introduction and greeting to student.\n",
    "## Ask their name and greet them"
   ]
  },
  {
   "cell_type": "code",
   "execution_count": null,
   "id": "5f2bb2db-bb48-4cd1-8d90-eee92ee11a29",
   "metadata": {},
   "outputs": [],
   "source": []
  },
  {
   "cell_type": "code",
   "execution_count": null,
   "id": "6bf5b366-7f90-49b0-8e6f-eb81f318d1f3",
   "metadata": {},
   "outputs": [],
   "source": [
    "# Warm Up\n",
    "## Play the clip in full\n",
    "## Prompt to ask the student to play the clip and ask if they recognize any words"
   ]
  },
  {
   "cell_type": "code",
   "execution_count": null,
   "id": "6c32d458-6390-48a2-915c-280f352dbd91",
   "metadata": {},
   "outputs": [],
   "source": [
    "# Introduction to Context\n",
    "## Discuss what is happening in the clip in English"
   ]
  },
  {
   "cell_type": "code",
   "execution_count": null,
   "id": "b4148c52-b6c3-420a-9cf5-5620b3d71ee4",
   "metadata": {},
   "outputs": [],
   "source": [
    "# Audion Listening and Vocab Building\n",
    "## play the clip in smaller chunks and explain what every part means\n",
    "\n"
   ]
  },
  {
   "cell_type": "code",
   "execution_count": null,
   "id": "ee4f2eb3-d2aa-4294-9ff8-9c06a6913b00",
   "metadata": {},
   "outputs": [],
   "source": [
    "# Practice\n",
    "## ask student to repeat each clip and tell the teacher when they are done practicing. Provide the clip for them to practice\n",
    "## provide them a way to record their voice and see what Whisper API thinks, compare that to the words being asked. "
   ]
  },
  {
   "cell_type": "code",
   "execution_count": null,
   "id": "f3f44dba-09ea-4148-b128-ebba33c2aa3a",
   "metadata": {},
   "outputs": [],
   "source": [
    "# Summary of the lesson"
   ]
  },
  {
   "cell_type": "code",
   "execution_count": null,
   "id": "d01a60dd-3894-4f7b-8551-05f08d75f845",
   "metadata": {},
   "outputs": [],
   "source": [
    "# Allow student to ask questions"
   ]
  },
  {
   "cell_type": "code",
   "execution_count": null,
   "id": "9d7b93a1-4505-4c3b-afd4-9503e973bc72",
   "metadata": {},
   "outputs": [],
   "source": [
    "# Memory\n",
    "## short term memomry = sliding window/summary approach in lang chain\n",
    "## long term memory = vector store + fetching and scanning database of memories"
   ]
  }
 ],
 "metadata": {
  "kernelspec": {
   "display_name": "Python 3 (ipykernel)",
   "language": "python",
   "name": "python3"
  },
  "language_info": {
   "codemirror_mode": {
    "name": "ipython",
    "version": 3
   },
   "file_extension": ".py",
   "mimetype": "text/x-python",
   "name": "python",
   "nbconvert_exporter": "python",
   "pygments_lexer": "ipython3",
   "version": "3.10.9"
  }
 },
 "nbformat": 4,
 "nbformat_minor": 5
}
