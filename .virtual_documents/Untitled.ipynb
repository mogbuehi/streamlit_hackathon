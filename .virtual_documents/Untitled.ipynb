# download clip
import gradio as gr #for testing
from pytube import YouTube
import webbrowser

def download_video(url):
    try:
        yt = YouTube(url)
        video = yt.streams.get_highest_resolution()
        output_directory = '/downloaded_vids'
        video.download(output_path=output_directory)
        return f"Video '{yt.title}' has been downloaded successfully."
    except Exception as e:
        return f"An error occurred: {e}"

interface = gr.Interface(
    fn=download_video, 
    inputs=gr.inputs.Textbox(label="Enter YouTube URL:"),
    outputs=gr.outputs.Textbox(label="Status:")
)

# Launch the interface and capture the URL
url = interface.launch()




# transcribe clip


# save transcript


# pass to teacher
