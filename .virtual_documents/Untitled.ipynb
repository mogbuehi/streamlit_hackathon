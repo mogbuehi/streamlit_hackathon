from langchain.llms import OpenAI
from langchain.chat_models import ChatOpenAI
from langchain import PromptTemplate
from dotenv import load_dotenv, find_dotenv
import os

_ = load_dotenv(find_dotenv()) # read local .env file
openai_api_key = os.getenv('OPENAI_API_KEY')


# select language (should be in the data of the Transcript)
import json
transcript_path = 'transcript/Kamina - Believe in me who believes in you.json'
with open(transcript_path, 'r') as json_file:
    transcript = json.load(json_file)
language = transcript['language']


llm = OpenAI(model_name='gpt-3.5-turbo-0613', openai_api_key=openai_api_key, temperature=0)
template = '''Convert the ISO-639-1 language code into the plain english word for the language. ONLY return the english word for that language, nothing more.
Here is the language code: {language}  
Take your time and think this through. Remember only respond with one word, the english word for the language

Example: 
input: fr
your response: french
'''

prompt = PromptTemplate(
    input_variables=['language'],
    template=template,
)

final_prompt = prompt.format(language = language)
language = llm(final_prompt)





# Design and give student outline structure of the lesson 
## everything should happen in a large chat window
## if first lesson student should recieve the basics for learning japanese (kana table gojuon)
## give a txt or md or pdf of lesson outline and lesson notes (vocab, romaji, kana, kanji used)
## when designing the lesson it should pull out the keywords in relation to the clip of interest

from langchain.chat_models import ChatOpenAI
from langchain.prompts import ChatPromptTemplate

chat = ChatOpenAI(temperature=0.0, model='gpt-3.5-turbo-0613')

transcript_text = transcript['text']
with open('lesson_format.txt', 'r') as txt_file:
    lesson_format= txt_file.read()
    
template_string = '''Create a lesson based on this transcript {transcript_text} following this format {lesson_format}. 
Only output the lesson plan, nothing more'''

prompt_template = ChatPromptTemplate.from_template(template_string)
prompt_template.messages[0].prompt.input_variables


messages = prompt_template.format_messages(
    lesson_format=lesson_format,
    transcript_text=transcript_text
)

response = chat(messages)
print(messages)
print('')
print(response)
lesson_plan = response.content
with open('lesson_plan.md', 'w',encoding='utf-8') as md_file:
    md_file.write(lesson_plan)


# Introduction and greeting to student.
## Ask their name and greet them





# Warm Up
## Play the clip in full
## Prompt to ask the student to play the clip and ask if they recognize any words


# Introduction to Context
## Discuss what is happening in the clip in English


# Audion Listening and Vocab Building
## play the clip in smaller chunks and explain what every part means




# Practice
## ask student to repeat each clip and tell the teacher when they are done practicing. Provide the clip for them to practice
## provide them a way to record their voice and see what Whisper API thinks, compare that to the words being asked. 


# Summary of the lesson


# Allow student to ask questions


# Memory
## short term memomry = sliding window/summary approach in lang chain
## long term memory = vector store + fetching and scanning database of memories
