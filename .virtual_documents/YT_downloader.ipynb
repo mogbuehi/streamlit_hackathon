# download clip to a download folder
import os
from pytube import YouTube

def download_video(url):
    try:
        yt = YouTube(url)
        video = yt.streams.get_highest_resolution()
        output_directory = './downloads'  # Note: Using './' to specify a relative path
        if not os.path.exists(output_directory):
            os.makedirs(output_directory)
        video.download(output_path=output_directory)
        return f"Video '{yt.title}' has been downloaded successfully."
    except Exception as e:
        return f"An error occurred: {e}"


interface = gr.Interface(
    fn=download_video, 
    inputs=gr.inputs.Textbox(label="Enter YouTube URL:"),
    outputs=gr.outputs.Textbox(label="Status:")
)

# Launch the interface and capture the URL
url = interface.launch()




# transcribe clip
## Convert clip to audio
from moviepy.editor import VideoFileClip
video_path = 'downloads/Kamina - Believe in me who believes in you.mp4'
video = VideoFileClip(video_path)
audio_path = f'converted_audio/{video_path[9:-4]}.wav' # removes .mp4 file extension
video.audio.write_audiofile(audio_path) 

## Transcribe audio
### Note: Thinking to run a loop to stich together overlapping segments so that transcript is clean. use prompt argument and a way to reference last x-amount of strings of transcript as its being written. 

### raw_transcript
import openai
import os
from dotenv import load_dotenv
load_dotenv()
openai_key = os.getenv('OPENAI_API_KEY')
audio_file = open(audio_path, 'rb') # rb is read binary, used to open non-txt files like audio or images
v1_transcript = openai.Audio.transcribe(
    file=audio_file,
    model="whisper-1",
    response_format='json',
    temperature=0.2
    )

# ### ask chatgpt what language this trancript is in (give it the first 1000 strs) should return a one word string
# language=
# ### retranscribe in correct language to improve accuracy
# audio_file = open(audio_path, 'rb') # rb is read binary, used to open non-txt files like audio or images
# v2_transcript = openai.Audio.transcribe(
#     file=audio_file,
#     model="whisper-1",
#     response_format='json',
#     temperature=0.2
#     language=language
#     )
# ### 


# save transcript


# pass to teacher
